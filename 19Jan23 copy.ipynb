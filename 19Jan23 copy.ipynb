{
 "cells": [
  {
   "cell_type": "code",
   "execution_count": 2,
   "metadata": {},
   "outputs": [
    {
     "name": "stderr",
     "output_type": "stream",
     "text": [
      "\u001b[32m\u001b[1m    Updating\u001b[22m\u001b[39m registry at `~/.julia/registries/General.toml`\n"
     ]
    },
    {
     "name": "stderr",
     "output_type": "stream",
     "text": [
      "\u001b[32m\u001b[1m   Resolving\u001b[22m\u001b[39m package versions...\n"
     ]
    },
    {
     "name": "stderr",
     "output_type": "stream",
     "text": [
      "\u001b[32m\u001b[1m  No Changes\u001b[22m\u001b[39m to `~/.julia/environments/v1.8/Project.toml`\n",
      "\u001b[32m\u001b[1m  No Changes\u001b[22m\u001b[39m to `~/.julia/environments/v1.8/Manifest.toml`\n"
     ]
    },
    {
     "name": "stderr",
     "output_type": "stream",
     "text": [
      "\u001b[32m\u001b[1m   Resolving\u001b[22m\u001b[39m package versions...\n"
     ]
    },
    {
     "name": "stderr",
     "output_type": "stream",
     "text": [
      "\u001b[32m\u001b[1m  No Changes\u001b[22m\u001b[39m to `~/.julia/environments/v1.8/Project.toml`\n",
      "\u001b[32m\u001b[1m  No Changes\u001b[22m\u001b[39m to `~/.julia/environments/v1.8/Manifest.toml`\n"
     ]
    },
    {
     "name": "stderr",
     "output_type": "stream",
     "text": [
      "\u001b[32m\u001b[1m   Resolving\u001b[22m\u001b[39m package versions...\n"
     ]
    },
    {
     "name": "stderr",
     "output_type": "stream",
     "text": [
      "\u001b[32m\u001b[1m  No Changes\u001b[22m\u001b[39m to `~/.julia/environments/v1.8/Project.toml`\n",
      "\u001b[32m\u001b[1m  No Changes\u001b[22m\u001b[39m to `~/.julia/environments/v1.8/Manifest.toml`\n"
     ]
    }
   ],
   "source": [
    "import Pkg; Pkg.add(\"QuantumCumulants\")\n",
    "import Pkg; Pkg.add(\"Random\"); Pkg.add(\"Distributions\")\n",
    "using Random, Distributions\n",
    "using QuantumCumulants, OrdinaryDiffEq, ModelingToolkit, BenchmarkTools, Plots"
   ]
  },
  {
   "cell_type": "code",
   "execution_count": 3,
   "metadata": {},
   "outputs": [
    {
     "data": {
      "text/plain": [
       "4-element LinRange{Float64, Int64}:\n",
       " 0.0,0.333333,0.666667,1.0"
      ]
     },
     "metadata": {},
     "output_type": "display_data"
    }
   ],
   "source": [
    "function gauss(x, x0, σ)\n",
    "    return exp(-((x-x0)/σ)^2)\n",
    "end\n",
    "detuning = LinRange(0,1,4)"
   ]
  },
  {
   "cell_type": "code",
   "execution_count": 4,
   "metadata": {},
   "outputs": [
    {
     "data": {
      "text/plain": [
       "cumu_solve (generic function with 1 method)"
      ]
     },
     "metadata": {},
     "output_type": "display_data"
    }
   ],
   "source": [
    "function cumu_solve(N, Δ_a, kappa, Fs)\n",
    "    # N: number of spins\n",
    "    # Δ_a: detuning of each spin, 1D array of N\n",
    "    @cnumbers Δ_c F g γ κ\n",
    "    # Define hilbert space\n",
    "    hf = FockSpace(:cavity)\n",
    "    ha = [NLevelSpace(Symbol(:atom,i),2) for i=1:N]\n",
    "    h = ⊗(hf, ha...)\n",
    "    # Define the fundamental operators\n",
    "    a = Destroy(h,:a)\n",
    "    σe(i,j,k) = Transition(h,Symbol(:σe, k),i,j,k+1)\n",
    "    # Hamiltonian\n",
    "    H = Δ_c*a'*a + F*(a+a') + 0.5*sum(Δ_a[i]*(σe(2,2,i)-σe(1,1,i)) for i=1:N) + g*sum(a'*σe(1,2,i) + a*σe(2,1,i) for i=1:N)\n",
    "    # Collapse operators\n",
    "    J = [a;[σe(1,2,i) for i=1:N]]\n",
    "    rates = [κ;[γ for i=1:N]]\n",
    "    # Derive equations for populations\n",
    "    ops = [σe(2,2,i) for i=1:N]\n",
    "    sz_ops = [(σe(2,2,i)-σe(1,1,i)) for i=1:N]\n",
    "    eqs = meanfield(ops,H,J;rates=rates,order=2)\n",
    "    # Complete but neglect phase-dependent terms\n",
    "    ϕ(x::Average) = ϕ(x.arguments[1])\n",
    "    ϕ(::Destroy) = -1\n",
    "    ϕ(::Create) = 1\n",
    "    ϕ(x::QTerm) = sum(map(ϕ, x.args_nc))\n",
    "    ϕ(x::Transition) = x.i - x.j\n",
    "    phase_invariant(x) = iszero(ϕ(x))\n",
    "    # complete!(eqs;filter_func=phase_invariant)\n",
    "    complete!(eqs)\n",
    "    @named sys = ODESystem(eqs)\n",
    "    u0 = zeros(ComplexF64, length(eqs))\n",
    "    u0[1:N] .= 0.0 # atoms are inverted initially\n",
    "    p0 = (Δ_c=>0, F=>Fs, g=>1.6, γ=>0, κ=>kappa)\n",
    "    prob = ODEProblem(sys,u0,(0.0,1),p0)\n",
    "    sol = solve(prob,RK4())\n",
    "    n_pho = sqrt.(abs2.(sol[a'*a]))\n",
    "    # n_sz = Array{Float64, 2}(undef, N, length(sol.t))\n",
    "    # for i = 1:N\n",
    "    #     n_sz[i] = sqrt.(abs2.(sol[sz_ops[i]]))\n",
    "    # end\n",
    "    pe = [real.(sol[σe(2,2,i)]) for i = 1:N]\n",
    "    # plot(sol.t, n, xlabel=\"t\", label=\"n\")\"\n",
    "    return sol.t, n_pho, eqs\n",
    "end\n"
   ]
  },
  {
   "cell_type": "code",
   "execution_count": 1,
   "metadata": {},
   "outputs": [
    {
     "ename": "UndefVarError",
     "evalue": "UndefVarError: cumu_solve not defined",
     "output_type": "error",
     "traceback": [
      "UndefVarError: cumu_solve not defined\n",
      "\n",
      "Stacktrace:\n",
      " [1] top-level scope\n",
      "   @ ~/Library/CloudStorage/OneDrive-NationalUniversityofSingapore/FYP/Mean-field_Julia/19Jan23.ipynb:1"
     ]
    }
   ],
   "source": [
    "sol, n_pho, eqs = cumu_solve(20, [0 for i=1:20], 20, 8)\n",
    "plot(sol, n_pho)"
   ]
  },
  {
   "cell_type": "code",
   "execution_count": null,
   "metadata": {},
   "outputs": [],
   "source": []
  }
 ],
 "metadata": {
  "kernelspec": {
   "display_name": "Julia 1.8.4",
   "language": "julia",
   "name": "julia-1.8"
  },
  "language_info": {
   "file_extension": ".jl",
   "mimetype": "application/julia",
   "name": "julia",
   "version": "1.8.4"
  },
  "orig_nbformat": 4
 },
 "nbformat": 4,
 "nbformat_minor": 2
}
